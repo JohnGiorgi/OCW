{
 "cells": [
  {
   "cell_type": "code",
   "execution_count": 1,
   "outputs": [],
   "source": [
    "import openai\n",
    "from df_utils import *\n",
    "import re\n",
    "import random\n",
    "import numpy as np\n",
    "import torch\n",
    "# from utils import *\n",
    "openai.api_key = open(\"key.txt\", \"r\").read().strip('\\n')"
   ],
   "metadata": {
    "collapsed": false
   }
  },
  {
   "cell_type": "code",
   "execution_count": 2,
   "outputs": [],
   "source": [
    "EPISODE_ITEMS = 32\n",
    "WALL_ITEMS = EPISODE_ITEMS / 2"
   ],
   "metadata": {
    "collapsed": false
   }
  },
  {
   "cell_type": "code",
   "execution_count": 3,
   "outputs": [],
   "source": [
    "def wall_evaluator_gpt4(num_default=0, wall_skip=0):\n",
    "    df_new = DataFrameUtils().preprocess_text()\n",
    "    wall_info = {}\n",
    "    num = (num_default * EPISODE_ITEMS) + (wall_skip * WALL_ITEMS)\n",
    "    wall1_default = df_new[int(num - WALL_ITEMS):int(num)]['Names'].tolist()\n",
    "    wall_info['names'] = wall1_default\n",
    "    wall1_shuffled = wall1_default.copy()\n",
    "    random.shuffle(wall1_shuffled)\n",
    "    wall1 = \" \".join(wall1_shuffled)\n",
    "    return wall1, wall1_default"
   ],
   "metadata": {
    "collapsed": false
   }
  },
  {
   "cell_type": "code",
   "execution_count": 14,
   "outputs": [],
   "source": [
    "def get_completion(model, num_default=0, wall_skip=0):\n",
    "    completion = openai.ChatCompletion.create(\n",
    "    model=\"gpt-4\",\n",
    "    # max_tokens=125,\n",
    "    messages=[{\"role\": \"system\", \"content\": \"You are a helpful assistant that solves only connect walls.\"},\n",
    "              {\"role\": \"assistant\", \"content\": \"for each group describe the relationship in first line and group words in second single line\"},\n",
    "              {\"role\": \"user\", \"content\": \"group the following words into 4 groups of 4 : \" + wall_evaluator_gpt4(num_default, wall_skip)[0]}],\n",
    "                 temperature=0)\n",
    "    return completion.choices[0].message.content"
   ],
   "metadata": {
    "collapsed": false
   }
  },
  {
   "cell_type": "code",
   "execution_count": 5,
   "outputs": [],
   "source": [
    "def examine_wall(gpt_content, num_default=0, wall_skip=0):\n",
    "    GROUP_WORDS = 4\n",
    "    ITEM_NUM = 16\n",
    "    reply_content = gpt_content\n",
    "    lst_words = []\n",
    "    lst_groups = []\n",
    "    flag = False\n",
    "    if '-' in reply_content:\n",
    "        flag = True\n",
    "        reply_content = reply_content.replace('- ', '')\n",
    "    reply = reply_content.split('\\n\\n')\n",
    "    for i in range(4):\n",
    "        replay_split = reply[i].split('\\n')\n",
    "        if flag:\n",
    "            lst_words += replay_split[1:]\n",
    "        else:\n",
    "            lst_words += replay_split[1].split(', ')\n",
    "        lst_groups += re.findall(r'(?<=: )(.*)', replay_split[0])*4\n",
    "\n",
    "    lst_words_default = wall_evaluator_gpt4(num_default, wall_skip)[1]\n",
    "    correct_groups = 0\n",
    "    for i in range(GROUP_WORDS, ITEM_NUM+1, GROUP_WORDS):\n",
    "        for j in range(GROUP_WORDS, ITEM_NUM+1, GROUP_WORDS):\n",
    "            if sorted(lst_words[i-GROUP_WORDS:i]) == sorted(lst_words_default[j-GROUP_WORDS:j]):\n",
    "                correct_groups += 1\n",
    "                print(lst_words[i-GROUP_WORDS:i])\n",
    "    return correct_groups, lst_words, lst_groups"
   ],
   "metadata": {
    "collapsed": false
   }
  },
  {
   "cell_type": "code",
   "execution_count": 1,
   "outputs": [],
   "source": [
    "wall_evaluator_gpt4(num_default=0, wall_skip=1)"
   ],
   "metadata": {
    "collapsed": false
   }
  },
  {
   "cell_type": "code",
   "execution_count": 19,
   "outputs": [
    {
     "name": "stdout",
     "output_type": "stream",
     "text": [
      "['clare', 'kerry', 'galway', 'mayo']\n",
      "['willow', 'lime', 'cork', 'ash']\n",
      "['dole', 'gore', 'carter', 'bush']\n",
      "['lamb', 'may', 'gower', 'fry']\n",
      "number of correct groups:  4\n",
      "------------------\n",
      "solved_words:  ['clare', 'kerry', 'galway', 'mayo', 'willow', 'lime', 'cork', 'ash', 'dole', 'gore', 'carter', 'bush', 'lamb', 'may', 'gower', 'fry']\n",
      "------------------\n",
      "solved_groups:  ['Irish counties', 'Irish counties', 'Irish counties', 'Irish counties', 'Trees', 'Trees', 'Trees', 'Trees', 'Political figures', 'Political figures', 'Political figures', 'Political figures', 'Miscellaneous', 'Miscellaneous', 'Miscellaneous', 'Miscellaneous']\n"
     ]
    }
   ],
   "source": [
    "# test gpt-4 performance\n",
    "solved_wall = get_completion('gpt-4', num_default=0, wall_skip=3)\n",
    "correct_groups, lst_words, lst_groups = examine_wall(solved_wall, num_default=0, wall_skip=3)\n",
    "print('number of correct groups: ', correct_groups)\n",
    "print('------------------')\n",
    "print('solved_words: ', lst_words)\n",
    "print('------------------')\n",
    "print('solved_groups: ', lst_groups)"
   ],
   "metadata": {
    "collapsed": false
   }
  },
  {
   "cell_type": "code",
   "execution_count": 13,
   "outputs": [
    {
     "name": "stdout",
     "output_type": "stream",
     "text": [
      "Group 1: Former US Presidents or Vice Presidents\n",
      "carter, bush, gore, dole\n",
      "\n",
      "Group 2: Types of trees\n",
      "ash, willow, lime, cork\n",
      "\n",
      "Group 3: Irish counties\n",
      "galway, kerry, clare, mayo\n",
      "\n",
      "Group 4: British public figures with surnames that are also verbs\n",
      "lamb, gower, may, fry\n"
     ]
    }
   ],
   "source": [
    "print(solved_wall)"
   ],
   "metadata": {
    "collapsed": false
   }
  },
  {
   "cell_type": "code",
   "execution_count": 2,
   "outputs": [
    {
     "ename": "NameError",
     "evalue": "name 'solved_wall' is not defined",
     "output_type": "error",
     "traceback": [
      "\u001B[0;31m---------------------------------------------------------------------------\u001B[0m",
      "\u001B[0;31mNameError\u001B[0m                                 Traceback (most recent call last)",
      "\u001B[0;32m<ipython-input-2-5bd46062f9db>\u001B[0m in \u001B[0;36m<module>\u001B[0;34m\u001B[0m\n\u001B[0;32m----> 1\u001B[0;31m \u001B[0mprint\u001B[0m\u001B[0;34m(\u001B[0m\u001B[0msolved_wall\u001B[0m\u001B[0;34m)\u001B[0m\u001B[0;34m\u001B[0m\u001B[0;34m\u001B[0m\u001B[0m\n\u001B[0m",
      "\u001B[0;31mNameError\u001B[0m: name 'solved_wall' is not defined"
     ]
    }
   ],
   "source": [],
   "metadata": {
    "collapsed": false
   }
  }
 ],
 "metadata": {
  "kernelspec": {
   "display_name": "Python 3",
   "language": "python",
   "name": "python3"
  },
  "language_info": {
   "codemirror_mode": {
    "name": "ipython",
    "version": 2
   },
   "file_extension": ".py",
   "mimetype": "text/x-python",
   "name": "python",
   "nbconvert_exporter": "python",
   "pygments_lexer": "ipython2",
   "version": "2.7.6"
  }
 },
 "nbformat": 4,
 "nbformat_minor": 0
}
