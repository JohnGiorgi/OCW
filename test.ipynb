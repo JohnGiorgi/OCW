{
 "cells": [
  {
   "cell_type": "code",
   "execution_count": 1,
   "metadata": {
    "collapsed": true
   },
   "outputs": [
    {
     "name": "stderr",
     "output_type": "stream",
     "text": [
      "/home/saboa/anaconda3/envs/nlp_final/lib/python3.8/site-packages/scipy/__init__.py:146: UserWarning: A NumPy version >=1.16.5 and <1.23.0 is required for this version of SciPy (detected version 1.24.2\n",
      "  warnings.warn(f\"A NumPy version >={np_minversion} and <{np_maxversion}\"\n"
     ]
    }
   ],
   "source": [
    "from utils import *\n",
    "from df_utils import *\n",
    "import openai\n",
    "import re\n",
    "import random\n",
    "import numpy as np\n",
    "import torch\n",
    "openai.api_key = open(\"key.txt\", \"r\").read().strip('\\n')"
   ]
  },
  {
   "cell_type": "code",
   "execution_count": 150,
   "outputs": [],
   "source": [
    "def get_completion(wall1, model=\"gpt-4\"):\n",
    "    completion = openai.ChatCompletion.create(\n",
    "    model=model,\n",
    "    # max_tokens=125,\n",
    "    messages=[{\"role\": \"assistant\", \"content\": \"for each group describe the relationship in first line and group four words in second single line separated by comma without any further explanation. only write the words in the second line.\"},\n",
    "              {\"role\": \"user\", \"content\": \"group the following words into 4 groups of related 4: \" + wall1}],\n",
    "                 temperature=0)\n",
    "    return completion.choices[0].message.content"
   ],
   "metadata": {
    "collapsed": false
   }
  },
  {
   "cell_type": "code",
   "execution_count": 18,
   "outputs": [],
   "source": [
    "def get_completion(wall1, model=\"gpt-4\"):\n",
    "    completion = openai.ChatCompletion.create(\n",
    "    model=model,\n",
    "    # max_tokens=125,\n",
    "    messages=[{\"role\": \"user\", \"content\": \"You are an expert contestant on the game show Only Connect and are currently competing in Round 3: “Connecting Wall”. You will be given 16 clues in random order and need to sort them into four groups of connected items. Be careful! The puzzles are designed to include red herrings and to suggest more connections than actually exist, as some clues appear to fit into more than one category. Still, there is only one perfect solution for each wall. Please output your answer as a 4 X 5 markdown table. the last column is the relationship of words in each row. Clues: \" + wall1 + \" Answer:\"}],\n",
    "                 temperature=0)\n",
    "    return completion.choices[0].message.content"
   ],
   "metadata": {
    "collapsed": false
   }
  },
  {
   "cell_type": "code",
   "execution_count": 3,
   "outputs": [
    {
     "ename": "TypeError",
     "evalue": "get_completion() missing 1 required positional argument: 'wall1'",
     "output_type": "error",
     "traceback": [
      "\u001B[0;31m---------------------------------------------------------------------------\u001B[0m",
      "\u001B[0;31mTypeError\u001B[0m                                 Traceback (most recent call last)",
      "\u001B[0;32m<ipython-input-3-8e6c3ba579a5>\u001B[0m in \u001B[0;36m<module>\u001B[0;34m\u001B[0m\n\u001B[0;32m----> 1\u001B[0;31m \u001B[0mprint\u001B[0m\u001B[0;34m(\u001B[0m\u001B[0mget_completion\u001B[0m\u001B[0;34m(\u001B[0m\u001B[0mmodel\u001B[0m\u001B[0;34m=\u001B[0m\u001B[0;34m\"gpt-4\"\u001B[0m\u001B[0;34m)\u001B[0m\u001B[0;34m)\u001B[0m\u001B[0;34m\u001B[0m\u001B[0;34m\u001B[0m\u001B[0m\n\u001B[0m",
      "\u001B[0;31mTypeError\u001B[0m: get_completion() missing 1 required positional argument: 'wall1'"
     ]
    }
   ],
   "source": [
    "print(get_completion(model=\"gpt-4\"))"
   ],
   "metadata": {
    "collapsed": false
   }
  },
  {
   "cell_type": "code",
   "execution_count": 128,
   "outputs": [],
   "source": [
    "def examine_wall_gpt(gpt_content, wall1_default):\n",
    "    GROUP_WORDS = 4\n",
    "    ITEM_NUM = 16\n",
    "    reply_content = gpt_content\n",
    "    lst_words = []\n",
    "    lst_groups = []\n",
    "    flag = False\n",
    "\n",
    "    if '- ' in gpt_content or ' -' in gpt_content:\n",
    "        flag = True\n",
    "        reply_content = reply_content.replace('- ', '')\n",
    "    reply = reply_content.split('\\n\\n')\n",
    "    for i in range(4):\n",
    "        replay_split = reply[i].split('\\n')\n",
    "        if flag:\n",
    "            lst_words += replay_split[1:]\n",
    "        else:\n",
    "            lst_words += replay_split[1].split(', ')\n",
    "        lst_groups += re.findall(r'(?<=: )(.*)', replay_split[0])*4\n",
    "\n",
    "    lst_words_default = wall1_default\n",
    "    correct_groups = 0\n",
    "    for i in range(GROUP_WORDS, ITEM_NUM+1, GROUP_WORDS):\n",
    "        for j in range(GROUP_WORDS, ITEM_NUM+1, GROUP_WORDS):\n",
    "            if sorted(lst_words[i-GROUP_WORDS:i]) == sorted(lst_words_default[j-GROUP_WORDS:j]):\n",
    "                correct_groups += 1\n",
    "                # print(lst_words[i-GROUP_WORDS:i])\n",
    "    return correct_groups, lst_words, lst_groups"
   ],
   "metadata": {
    "collapsed": false
   }
  },
  {
   "cell_type": "code",
   "execution_count": 82,
   "outputs": [],
   "source": [
    "def word2index(lst_words, wall1_default):\n",
    "    dict_bbb = {}\n",
    "    lst_aaa_new = []\n",
    "    lst_default = [0, 0, 0, 0, 1, 1, 1, 1, 2, 2, 2, 2, 3, 3, 3, 3]\n",
    "    for i in range(len(wall1_default)):\n",
    "        dict_bbb[wall1_default[i]] = lst_default[i]\n",
    "    lst_words_new = lst_words.copy()\n",
    "    for i in lst_words_new:\n",
    "        lst_words_new[lst_words_new.index(i)] = dict_bbb[i]\n",
    "    return lst_words_new, lst_default"
   ],
   "metadata": {
    "collapsed": false
   }
  },
  {
   "cell_type": "code",
   "execution_count": 83,
   "outputs": [],
   "source": [
    "# check if there is a '-' in the start of line\n",
    "# def check_dash(gpt_content):\n",
    "#     reply = gpt_content.split('\\n\\n')\n",
    "#     for i in range(4):\n",
    "#         replay_split = reply[i].split('\\n')\n",
    "#         if '-' in replay_split[0]:\n",
    "#             return True\n",
    "#     return False"
   ],
   "metadata": {
    "collapsed": false
   }
  },
  {
   "cell_type": "code",
   "execution_count": 19,
   "outputs": [],
   "source": [
    "def wall_evaluator_gpt(num_default=0, wall_skip=0):\n",
    "    df_new = DataFrameUtils().preprocess_text()\n",
    "    wall_info = {}\n",
    "    num = (num_default * EPISODE_ITEMS) + (wall_skip * WALL_ITEMS)\n",
    "    wall1_default = df_new[int(num - WALL_ITEMS):int(num)]['Names'].tolist()\n",
    "    wall_info['names'] = wall1_default\n",
    "    wall1_shuffled = wall1_default.copy()\n",
    "    random.shuffle(wall1_shuffled)\n",
    "    wall1 = \" \".join(wall1_shuffled)\n",
    "    wall1 = wall1.replace(' ', ', ')\n",
    "    wall1 = wall1.replace('-', ' ')\n",
    "    print(wall1_default)\n",
    "    gpt_content = get_completion(wall1).lower()\n",
    "    # print(gpt_content)\n",
    "    # correct_groups, lst_words, lst_groups = examine_wall_gpt(gpt_content, wall1_default)\n",
    "    # # print(correct_groups)\n",
    "    # # print()\n",
    "    # # print(lst_words, wall1_default)\n",
    "    # lst_words_new, lst_default = word2index(lst_words, wall1_default)\n",
    "    # # print(lst_words_new, lst_default)\n",
    "    # clf_embeds_metrics = wall_evaluation(label=lst_words_new, label_true=lst_default)\n",
    "    # wall_info['correct_groups'] = correct_groups\n",
    "    # wall_info['predicted_relationships'] = lst_groups\n",
    "    # wall_info['predicted_groups'] = lst_words\n",
    "    # wall_info['scores'] = clf_embeds_metrics\n",
    "\n",
    "    # return wall_info\n",
    "    return gpt_content"
   ],
   "metadata": {
    "collapsed": false
   }
  },
  {
   "cell_type": "code",
   "execution_count": 20,
   "outputs": [
    {
     "name": "stdout",
     "output_type": "stream",
     "text": [
      "['elastic-band', 'puck', 'squash-ball', 'condom', 'screw', 'grass', 'snout', 'lag', 'santa', 'satan', 'bottom', 'dr-riviera', 'up', 'down', 'charm', 'strange']\n"
     ]
    }
   ],
   "source": [
    "aaa = wall_evaluator_gpt(num_default=0, wall_skip=1)"
   ],
   "metadata": {
    "collapsed": false
   }
  },
  {
   "cell_type": "code",
   "execution_count": 8,
   "outputs": [
    {
     "data": {
      "text/plain": "'| puck       | screw      | elastic band | squash ball |\\n|------------|------------|--------------|-------------|\\n| condom     | snout      | grass        | santa       |\\n| strange    | lag        | dr riviera   | charm       |\\n| up         | bottom     | down         | satan       |'"
     },
     "execution_count": 8,
     "metadata": {},
     "output_type": "execute_result"
    }
   ],
   "source": [
    "aaa"
   ],
   "metadata": {
    "collapsed": false
   }
  },
  {
   "cell_type": "code",
   "execution_count": 22,
   "outputs": [
    {
     "data": {
      "text/plain": "'| up      | down    | bottom  | satan   | opposites / anagrams  |\\n|---------|---------|---------|---------|-----------------------|\\n| screw   | charm   | strange | dr riviera | types of quarks    |\\n| grass   | snout   | puck    | santa   | hidden animals        |\\n| lag     | condom  | elastic band | squash ball | rubber-related items |'"
     },
     "execution_count": 22,
     "metadata": {},
     "output_type": "execute_result"
    }
   ],
   "source": [
    "aaa"
   ],
   "metadata": {
    "collapsed": false
   }
  },
  {
   "cell_type": "code",
   "execution_count": null,
   "outputs": [],
   "source": [
    "wsreg = '^[ \\t]+'"
   ],
   "metadata": {
    "collapsed": false
   }
  },
  {
   "cell_type": "code",
   "execution_count": 52,
   "outputs": [],
   "source": [
    "lst_trim = aaa.replace('|', ' ').replace('\\n', '').replace('-', '').split('  ')"
   ],
   "metadata": {
    "collapsed": false
   }
  },
  {
   "cell_type": "code",
   "execution_count": 53,
   "outputs": [
    {
     "data": {
      "text/plain": "['up',\n 'down',\n 'bottom',\n 'satan',\n ' opposites / anagrams',\n ' screw',\n ' charm',\n ' strange',\n ' dr riviera',\n ' types of quarks',\n ' grass',\n ' snout',\n ' puck',\n 'santa',\n '',\n ' hidden animals',\n '',\n '',\n '',\n '',\n ' lag',\n '',\n '',\n ' condom',\n '',\n 'elastic band',\n ' squash ball',\n ' rubberrelated items',\n '']"
     },
     "execution_count": 53,
     "metadata": {},
     "output_type": "execute_result"
    }
   ],
   "source": [
    "for i in lst_trim:\n",
    "    if i == '':\n",
    "        lst_trim.remove(i)\n",
    "\n",
    "lst_trim"
   ],
   "metadata": {
    "collapsed": false
   }
  },
  {
   "cell_type": "code",
   "execution_count": 7,
   "outputs": [
    {
     "ename": "TypeError",
     "evalue": "string indices must be integers",
     "output_type": "error",
     "traceback": [
      "\u001B[0;31m---------------------------------------------------------------------------\u001B[0m",
      "\u001B[0;31mTypeError\u001B[0m                                 Traceback (most recent call last)",
      "\u001B[0;32m<ipython-input-7-29256f77122d>\u001B[0m in \u001B[0;36m<module>\u001B[0;34m\u001B[0m\n\u001B[0;32m----> 1\u001B[0;31m \u001B[0maaa\u001B[0m\u001B[0;34m[\u001B[0m\u001B[0;34m'scores'\u001B[0m\u001B[0;34m]\u001B[0m\u001B[0;34m[\u001B[0m\u001B[0;34m'ars'\u001B[0m\u001B[0;34m]\u001B[0m\u001B[0;34m\u001B[0m\u001B[0;34m\u001B[0m\u001B[0m\n\u001B[0m",
      "\u001B[0;31mTypeError\u001B[0m: string indices must be integers"
     ]
    }
   ],
   "source": [
    "'scores']['ars']"
   ],
   "metadata": {
    "collapsed": false
   }
  },
  {
   "cell_type": "code",
   "execution_count": 57,
   "outputs": [
    {
     "data": {
      "text/plain": "'wareyou'"
     },
     "execution_count": 57,
     "metadata": {},
     "output_type": "execute_result"
    }
   ],
   "source": [
    "'hiho/wareyou'.split('/')[-1]"
   ],
   "metadata": {
    "collapsed": false
   }
  },
  {
   "cell_type": "code",
   "execution_count": null,
   "outputs": [],
   "source": [],
   "metadata": {
    "collapsed": false
   }
  }
 ],
 "metadata": {
  "kernelspec": {
   "display_name": "Python 3",
   "language": "python",
   "name": "python3"
  },
  "language_info": {
   "codemirror_mode": {
    "name": "ipython",
    "version": 2
   },
   "file_extension": ".py",
   "mimetype": "text/x-python",
   "name": "python",
   "nbconvert_exporter": "python",
   "pygments_lexer": "ipython2",
   "version": "2.7.6"
  }
 },
 "nbformat": 4,
 "nbformat_minor": 0
}
